{
  "nbformat": 4,
  "nbformat_minor": 0,
  "metadata": {
    "colab": {
      "provenance": [],
      "include_colab_link": true
    },
    "kernelspec": {
      "name": "python3",
      "display_name": "Python 3"
    },
    "language_info": {
      "name": "python"
    }
  },
  "cells": [
    {
      "cell_type": "markdown",
      "metadata": {
        "id": "view-in-github",
        "colab_type": "text"
      },
      "source": [
        "<a href=\"https://colab.research.google.com/github/lilydoggy0714-cmyk/MNIST/blob/main/W2%20VAE.ipynb\" target=\"_parent\"><img src=\"https://colab.research.google.com/assets/colab-badge.svg\" alt=\"Open In Colab\"/></a>"
      ]
    },
    {
      "cell_type": "code",
      "execution_count": null,
      "metadata": {
        "id": "LXIrvAO0QyXT"
      },
      "outputs": [],
      "source": [
        "import torch\n",
        "import torch.nn as nn\n",
        "import torch.optim as optim\n",
        "from torchvision import datasets, transforms\n",
        "from torch.utils.data import DataLoader\n",
        "import matplotlib.pyplot as plt\n",
        "import time\n"
      ]
    },
    {
      "cell_type": "code",
      "source": [
        "#dataset\n",
        "batch_size = 128\n",
        "transform = transforms.Compose([\n",
        "    transforms.ToTensor(),\n",
        "    transforms.Lambda(lambda x: x.view(-1))\n",
        "])\n",
        "\n",
        "train_dataset = datasets.MNIST(root=\"./data\", train=True, download=True, transform=transform)\n",
        "test_dataset = datasets.MNIST(root=\"./data\", train=False, download=True, transform=transform)\n",
        "\n",
        "train_loader = DataLoader(train_dataset, batch_size=batch_size, shuffle=True)\n",
        "test_loader = DataLoader(test_dataset, batch_size=batch_size, shuffle=False)"
      ],
      "metadata": {
        "colab": {
          "base_uri": "https://localhost:8080/"
        },
        "id": "gmxui_kfjJRv",
        "outputId": "f5fbb08e-3bda-4fa3-e2f0-f968ed8882de"
      },
      "execution_count": null,
      "outputs": [
        {
          "output_type": "stream",
          "name": "stderr",
          "text": [
            "100%|██████████| 9.91M/9.91M [00:00<00:00, 41.7MB/s]\n",
            "100%|██████████| 28.9k/28.9k [00:00<00:00, 1.06MB/s]\n",
            "100%|██████████| 1.65M/1.65M [00:00<00:00, 9.43MB/s]\n",
            "100%|██████████| 4.54k/4.54k [00:00<00:00, 10.2MB/s]\n"
          ]
        }
      ]
    },
    {
      "cell_type": "code",
      "source": [
        "latent_dim = 20  # 潛在空間維度\n",
        "\n",
        "class VAE(nn.Module):\n",
        "    def __init__(self):\n",
        "        super(VAE, self).__init__()\n",
        "\n",
        "        # Encoder\n",
        "        self.fc1 = nn.Linear(784, 400)  #20*20 壓縮\n",
        "        self.fc_mu = nn.Linear(400, latent_dim)\n",
        "        self.fc_logvar = nn.Linear(400, latent_dim)\n",
        "\n",
        "        # Decoder\n",
        "        self.fc3 = nn.Linear(latent_dim, 400)\n",
        "        self.fc4 = nn.Linear(400, 784)\n",
        "\n",
        "    def encode(self, x):\n",
        "        h = torch.relu(self.fc1(x))\n",
        "        mu = self.fc_mu(h)\n",
        "        logvar = self.fc_logvar(h)\n",
        "        return mu, logvar\n",
        "\n",
        "    def reparameterize(self, mu, logvar):\n",
        "        std = torch.exp(0.5 * logvar)\n",
        "        eps = torch.randn_like(std)\n",
        "        return mu + eps * std\n",
        "\n",
        "    def decode(self, z):\n",
        "        h = torch.relu(self.fc3(z))\n",
        "        return torch.sigmoid(self.fc4(h))\n",
        "\n",
        "    def forward(self, x):\n",
        "        mu, logvar = self.encode(x)\n",
        "        z = self.reparameterize(mu, logvar)\n",
        "        recon_x = self.decode(z)\n",
        "        return recon_x, mu, logvar\n",
        "\n",
        "\n",
        "device = torch.device(\"cuda\" if torch.cuda.is_available() else \"cpu\")\n",
        "model = VAE().to(device)\n",
        "optimizer = optim.Adam(model.parameters(), lr=1e-3)\n",
        "\n",
        "\n",
        "def loss_function(recon_x, x, mu, logvar):\n",
        "    BCE = nn.functional.binary_cross_entropy(recon_x, x, reduction=\"sum\")\n",
        "    KLD = -0.5 * torch.sum(1 + logvar - mu.pow(2) - logvar.exp())\n",
        "    return BCE + KLD\n"
      ],
      "metadata": {
        "id": "83nhVHtqjNQd"
      },
      "execution_count": null,
      "outputs": []
    },
    {
      "cell_type": "code",
      "source": [
        "epochs = 30\n",
        "\n",
        "for epoch in range(1, epochs + 1):\n",
        "    model.train()\n",
        "    train_loss = 0\n",
        "    for x, _ in train_loader:\n",
        "        x = x.to(device)\n",
        "        optimizer.zero_grad()\n",
        "        recon_x, mu, logvar = model(x)\n",
        "        loss = loss_function(recon_x, x, mu, logvar)\n",
        "        loss.backward()\n",
        "        train_loss += loss.item()\n",
        "        optimizer.step()\n",
        "\n",
        "    avg_loss = train_loss / len(train_loader.dataset)\n",
        "    print(f\"Epoch {epoch}, Average loss: {avg_loss:.4f}\")"
      ],
      "metadata": {
        "colab": {
          "base_uri": "https://localhost:8080/"
        },
        "id": "WWpEIDJtjSC2",
        "outputId": "fb237c89-d37d-4b1e-b6d7-294c790987bb"
      },
      "execution_count": null,
      "outputs": [
        {
          "output_type": "stream",
          "name": "stdout",
          "text": [
            "Epoch 1, Average loss: 165.1682\n",
            "Epoch 2, Average loss: 121.7090\n",
            "Epoch 3, Average loss: 114.7859\n",
            "Epoch 4, Average loss: 111.7582\n",
            "Epoch 5, Average loss: 110.0529\n",
            "Epoch 6, Average loss: 108.7851\n",
            "Epoch 7, Average loss: 107.9310\n",
            "Epoch 8, Average loss: 107.2403\n",
            "Epoch 9, Average loss: 106.7117\n",
            "Epoch 10, Average loss: 106.2797\n",
            "Epoch 11, Average loss: 105.9250\n",
            "Epoch 12, Average loss: 105.5472\n",
            "Epoch 13, Average loss: 105.3455\n",
            "Epoch 14, Average loss: 105.1128\n",
            "Epoch 15, Average loss: 104.9087\n",
            "Epoch 16, Average loss: 104.6463\n",
            "Epoch 17, Average loss: 104.4794\n",
            "Epoch 18, Average loss: 104.3396\n",
            "Epoch 19, Average loss: 104.1396\n",
            "Epoch 20, Average loss: 103.9977\n",
            "Epoch 21, Average loss: 103.8876\n",
            "Epoch 22, Average loss: 103.7898\n",
            "Epoch 23, Average loss: 103.6948\n",
            "Epoch 24, Average loss: 103.5985\n",
            "Epoch 25, Average loss: 103.4068\n",
            "Epoch 26, Average loss: 103.3554\n",
            "Epoch 27, Average loss: 103.2328\n",
            "Epoch 28, Average loss: 103.1612\n",
            "Epoch 29, Average loss: 103.0922\n",
            "Epoch 30, Average loss: 102.9812\n"
          ]
        }
      ]
    },
    {
      "cell_type": "code",
      "source": [
        "# 開始計時\n",
        "start_time = time.time()\n",
        "\n",
        "with torch.no_grad():\n",
        "    z = torch.randn(10, latent_dim).to(device)   # 從標準常態分布取樣潛在向量\n",
        "    generated = model.decode(z)                 # 用解碼器直接生成圖片\n",
        "\n",
        "# 結束計時\n",
        "end_time = time.time()\n",
        "elapsed_time = end_time - start_time\n",
        "print(f\"圖片生成耗時：{elapsed_time:.4f} 秒\")\n",
        "\n",
        "# 顯示圖片\n",
        "plt.figure(figsize=(16, 2))\n",
        "for i in range(10):\n",
        "    plt.subplot(1, 10, i + 1)\n",
        "    plt.imshow(generated[i].cpu().view(28, 28), cmap=\"gray\")\n",
        "    plt.axis(\"off\")\n",
        "plt.show()\n"
      ],
      "metadata": {
        "colab": {
          "base_uri": "https://localhost:8080/",
          "height": 159
        },
        "id": "_09WmQbHP6E4",
        "outputId": "19121266-e878-4be0-bb5d-2f64eb893c17"
      },
      "execution_count": null,
      "outputs": [
        {
          "output_type": "stream",
          "name": "stdout",
          "text": [
            "圖片生成耗時：0.0017 秒\n"
          ]
        },
        {
          "output_type": "display_data",
          "data": {
            "text/plain": [
              "<Figure size 1600x200 with 10 Axes>"
            ],
            "image/png": "[encoded data removed]"
          },
          "metadata": {}
        }
      ]
    },
    {
      "cell_type": "code",
      "source": [
        "# model.eval()\n",
        "# with torch.no_grad():\n",
        "#     test_batch, _ = next(iter(test_loader))\n",
        "#     test_batch = test_batch.to(device)\n",
        "#     recon_batch, _, _ = model(test_batch)\n",
        "\n",
        "#     n = 8\n",
        "#     plt.figure(figsize=(16, 4))\n",
        "#     for i in range(n):\n",
        "#         # 原圖\n",
        "#         ax = plt.subplot(2, n, i + 1)\n",
        "#         plt.imshow(test_batch[i].cpu().view(28, 28), cmap=\"gray\")\n",
        "#         plt.axis(\"off\")\n",
        "\n",
        "#         # 重建圖\n",
        "#         ax = plt.subplot(2, n, i + 1 + n)\n",
        "#         plt.imshow(recon_batch[i].cpu().view(28, 28), cmap=\"gray\")\n",
        "#         plt.axis(\"off\")\n",
        "\n",
        "#     plt.savefig(\"vae_mnist_reconstruction.png\")\n",
        "#     plt.show()"
      ],
      "metadata": {
        "id": "f3SHt61bjVHv"
      },
      "execution_count": null,
      "outputs": []
    }
  ]
}