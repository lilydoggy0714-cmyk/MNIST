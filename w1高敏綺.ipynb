{
  "nbformat": 4,
  "nbformat_minor": 0,
  "metadata": {
    "colab": {
      "provenance": [],
      "name": "w1高敏綺.ipynb"
    },
    "kernelspec": {
      "name": "python3",
      "display_name": "Python 3"
    },
    "language_info": {
      "name": "python"
    }
  },
  "cells": [
    {
      "cell_type": "code",
      "execution_count": null,
      "metadata": {
        "id": "1R7IAX6CIzxq"
      },
      "outputs": [],
      "source": [
        "import os\n",
        "os.environ[\"KMP_DUPLICATE_LIB_OK\"] = \"TRUE\"\n",
        "\n",
        "import torch\n",
        "import torch.nn as nn\n",
        "import torch.nn.functional as F\n",
        "import torch.optim as optim\n",
        "from torchvision import datasets, transforms\n",
        "from torch.utils.data import DataLoader\n",
        "import matplotlib.pyplot as plt"
      ]
    },
    {
      "cell_type": "code",
      "source": [
        "!mkdir -p ./data/MNIST/raw\n",
        "batch_size = 128\n",
        "transform = transforms.ToTensor()\n",
        "\n",
        "!wget -O ./data/MNIST/raw/train-images-idx3-ubyte.gz https://github.com/fgnt/mnist/raw/master/train-images-idx3-ubyte.gz\n",
        "!wget -O ./data/MNIST/raw/train-labels-idx1-ubyte.gz https://github.com/fgnt/mnist/raw/master/train-labels-idx1-ubyte.gz\n",
        "!wget -O ./data/MNIST/raw/t10k-images-idx3-ubyte.gz https://github.com/fgnt/mnist/raw/master/t10k-images-idx3-ubyte.gz\n",
        "!wget -O ./data/MNIST/raw/t10k-labels-idx1-ubyte.gz https://github.com/fgnt/mnist/raw/master/t10k-labels-idx1-ubyte.gz\n",
        "\n",
        "train_dataset = datasets.MNIST(root='./data', train=True, download=True, transform=transform)\n",
        "test_dataset = datasets.MNIST(root='./data', train=False, download=True, transform=transform)\n",
        "\n",
        "\n",
        "train_loader = DataLoader(train_dataset, batch_size=batch_size, shuffle=True)\n",
        "test_loader = DataLoader(test_dataset, batch_size=batch_size, shuffle=False)"
      ],
      "metadata": {
        "colab": {
          "base_uri": "https://localhost:8080/"
        },
        "id": "awK26rrpJ5-n",
        "outputId": "1f01f49c-698d-4739-cd4e-75d78c9925da"
      },
      "execution_count": null,
      "outputs": [
        {
          "output_type": "stream",
          "name": "stdout",
          "text": [
            "--2025-09-22 05:09:38--  https://github.com/fgnt/mnist/raw/master/train-images-idx3-ubyte.gz\n",
            "Resolving github.com (github.com)... 140.82.112.4\n",
            "Connecting to github.com (github.com)|140.82.112.4|:443... connected.\n",
            "HTTP request sent, awaiting response... 302 Found\n",
            "Location: https://raw.githubusercontent.com/fgnt/mnist/master/train-images-idx3-ubyte.gz [following]\n",
            "--2025-09-22 05:09:38--  https://raw.githubusercontent.com/fgnt/mnist/master/train-images-idx3-ubyte.gz\n",
            "Resolving raw.githubusercontent.com (raw.githubusercontent.com)... 185.199.108.133, 185.199.109.133, 185.199.110.133, ...\n",
            "Connecting to raw.githubusercontent.com (raw.githubusercontent.com)|185.199.108.133|:443... connected.\n",
            "HTTP request sent, awaiting response... 200 OK\n",
            "Length: 9912422 (9.5M) [application/octet-stream]\n",
            "Saving to: ‘./data/MNIST/raw/train-images-idx3-ubyte.gz’\n",
            "\n",
            "./data/MNIST/raw/tr 100%[===================>]   9.45M  --.-KB/s    in 0.1s    \n",
            "\n",
            "2025-09-22 05:09:39 (91.8 MB/s) - ‘./data/MNIST/raw/train-images-idx3-ubyte.gz’ saved [9912422/9912422]\n",
            "\n",
            "--2025-09-22 05:09:39--  https://github.com/fgnt/mnist/raw/master/train-labels-idx1-ubyte.gz\n",
            "Resolving github.com (github.com)... 140.82.114.4\n",
            "Connecting to github.com (github.com)|140.82.114.4|:443... connected.\n",
            "HTTP request sent, awaiting response... 302 Found\n",
            "Location: https://raw.githubusercontent.com/fgnt/mnist/master/train-labels-idx1-ubyte.gz [following]\n",
            "--2025-09-22 05:09:39--  https://raw.githubusercontent.com/fgnt/mnist/master/train-labels-idx1-ubyte.gz\n",
            "Resolving raw.githubusercontent.com (raw.githubusercontent.com)... 185.199.108.133, 185.199.109.133, 185.199.110.133, ...\n",
            "Connecting to raw.githubusercontent.com (raw.githubusercontent.com)|185.199.108.133|:443... connected.\n",
            "HTTP request sent, awaiting response... 200 OK\n",
            "Length: 28881 (28K) [application/octet-stream]\n",
            "Saving to: ‘./data/MNIST/raw/train-labels-idx1-ubyte.gz’\n",
            "\n",
            "./data/MNIST/raw/tr 100%[===================>]  28.20K  --.-KB/s    in 0.003s  \n",
            "\n",
            "2025-09-22 05:09:39 (9.00 MB/s) - ‘./data/MNIST/raw/train-labels-idx1-ubyte.gz’ saved [28881/28881]\n",
            "\n",
            "--2025-09-22 05:09:39--  https://github.com/fgnt/mnist/raw/master/t10k-images-idx3-ubyte.gz\n",
            "Resolving github.com (github.com)... 140.82.113.3\n",
            "Connecting to github.com (github.com)|140.82.113.3|:443... connected.\n",
            "HTTP request sent, awaiting response... 302 Found\n",
            "Location: https://raw.githubusercontent.com/fgnt/mnist/master/t10k-images-idx3-ubyte.gz [following]\n",
            "--2025-09-22 05:09:39--  https://raw.githubusercontent.com/fgnt/mnist/master/t10k-images-idx3-ubyte.gz\n",
            "Resolving raw.githubusercontent.com (raw.githubusercontent.com)... 185.199.108.133, 185.199.109.133, 185.199.110.133, ...\n",
            "Connecting to raw.githubusercontent.com (raw.githubusercontent.com)|185.199.108.133|:443... connected.\n",
            "HTTP request sent, awaiting response... 200 OK\n",
            "Length: 1648877 (1.6M) [application/octet-stream]\n",
            "Saving to: ‘./data/MNIST/raw/t10k-images-idx3-ubyte.gz’\n",
            "\n",
            "./data/MNIST/raw/t1 100%[===================>]   1.57M  --.-KB/s    in 0.07s   \n",
            "\n",
            "2025-09-22 05:09:40 (23.4 MB/s) - ‘./data/MNIST/raw/t10k-images-idx3-ubyte.gz’ saved [1648877/1648877]\n",
            "\n",
            "--2025-09-22 05:09:40--  https://github.com/fgnt/mnist/raw/master/t10k-labels-idx1-ubyte.gz\n",
            "Resolving github.com (github.com)... 140.82.113.4\n",
            "Connecting to github.com (github.com)|140.82.113.4|:443... connected.\n",
            "HTTP request sent, awaiting response... 302 Found\n",
            "Location: https://raw.githubusercontent.com/fgnt/mnist/master/t10k-labels-idx1-ubyte.gz [following]\n",
            "--2025-09-22 05:09:40--  https://raw.githubusercontent.com/fgnt/mnist/master/t10k-labels-idx1-ubyte.gz\n",
            "Resolving raw.githubusercontent.com (raw.githubusercontent.com)... 185.199.111.133, 185.199.108.133, 185.199.109.133, ...\n",
            "Connecting to raw.githubusercontent.com (raw.githubusercontent.com)|185.199.111.133|:443... connected.\n",
            "HTTP request sent, awaiting response... 200 OK\n",
            "Length: 4542 (4.4K) [application/octet-stream]\n",
            "Saving to: ‘./data/MNIST/raw/t10k-labels-idx1-ubyte.gz’\n",
            "\n",
            "./data/MNIST/raw/t1 100%[===================>]   4.44K  --.-KB/s    in 0s      \n",
            "\n",
            "2025-09-22 05:09:40 (47.4 MB/s) - ‘./data/MNIST/raw/t10k-labels-idx1-ubyte.gz’ saved [4542/4542]\n",
            "\n"
          ]
        }
      ]
    },
    {
      "cell_type": "code",
      "source": [
        "class VAE(nn.Module):\n",
        "    def __init__(self):\n",
        "        super(VAE, self).__init__()\n",
        "        self.fc1 = nn.Linear(784, 400)\n",
        "        self.fc_mu = nn.Linear(400, 20)\n",
        "        self.fc_logvar = nn.Linear(400, 20)\n",
        "        self.fc2 = nn.Linear(20, 400)\n",
        "        self.fc3 = nn.Linear(400, 784)\n",
        "\n",
        "    def encode(self, x):\n",
        "        h = F.relu(self.fc1(x))\n",
        "        return self.fc_mu(h), self.fc_logvar(h)\n",
        "\n",
        "    def reparameterize(self, mu, logvar):\n",
        "        std = torch.exp(0.5 * logvar)\n",
        "        eps = torch.randn_like(std)\n",
        "        return mu + eps * std\n",
        "\n",
        "    def decode(self, z):\n",
        "        h = F.relu(self.fc2(z))\n",
        "        return torch.sigmoid(self.fc3(h))\n",
        "\n",
        "    def forward(self, x):\n",
        "        mu, logvar = self.encode(x.view(-1, 784))\n",
        "        z = self.reparameterize(mu, logvar)\n",
        "        return self.decode(z), mu, logvar\n",
        "\n"
      ],
      "metadata": {
        "id": "c3zH-jOkKsjy"
      },
      "execution_count": null,
      "outputs": []
    },
    {
      "cell_type": "code",
      "source": [
        "device = torch.device(\"cuda\" if torch.cuda.is_available() else \"cpu\")\n",
        "model = VAE().to(device)\n",
        "optimizer = optim.Adam(model.parameters(), lr=1e-3)\n",
        "\n",
        "def loss_function(recon_x, x, mu, logvar):\n",
        "    BCE = F.binary_cross_entropy(recon_x, x.view(-1, 784), reduction='sum')\n",
        "    KLD = -0.5 * torch.sum(1 + logvar - mu.pow(2) - logvar.exp())\n",
        "    return BCE + KLD"
      ],
      "metadata": {
        "id": "Np4RMASzLBpQ"
      },
      "execution_count": null,
      "outputs": []
    },
    {
      "cell_type": "code",
      "source": [
        "for epoch in range(1, 6):\n",
        "    model.train()\n",
        "    train_loss = 0\n",
        "    for data, _ in train_loader:\n",
        "        data = data.to(device)\n",
        "        optimizer.zero_grad()\n",
        "        recon, mu, logvar = model(data)\n",
        "        loss = loss_function(recon, data, mu, logvar)\n",
        "        loss.backward()\n",
        "        train_loss += loss.item()\n",
        "        optimizer.step()\n",
        "    print(f\"Epoch {epoch}, 平均 Loss: {train_loss / len(train_loader.dataset):.4f}\")"
      ],
      "metadata": {
        "colab": {
          "base_uri": "https://localhost:8080/"
        },
        "id": "lt1uJP6yM8i_",
        "outputId": "e0575519-4f12-4185-a661-15723d39a210"
      },
      "execution_count": null,
      "outputs": [
        {
          "output_type": "stream",
          "name": "stdout",
          "text": [
            "Epoch 1, 平均 Loss: 164.0191\n",
            "Epoch 2, 平均 Loss: 121.3956\n",
            "Epoch 3, 平均 Loss: 114.5754\n",
            "Epoch 4, 平均 Loss: 111.6591\n",
            "Epoch 5, 平均 Loss: 109.9060\n"
          ]
        }
      ]
    },
    {
      "cell_type": "code",
      "source": [
        "model.eval()\n",
        "with torch.no_grad():\n",
        "    data, _ = next(iter(test_loader))\n",
        "    data = data.to(device)\n",
        "    recon, _, _ = model(data)\n",
        "\n",
        "    n = 8\n",
        "    plt.figure(figsize=(16, 4))\n",
        "    for i in range(n):\n",
        "        ax = plt.subplot(2, n, i + 1)\n",
        "        plt.imshow(data[i].cpu().view(28, 28), cmap=\"gray\")\n",
        "        ax.axis(\"off\")\n",
        "\n",
        "        ax = plt.subplot(2, n, i + 1 + n)\n",
        "        plt.imshow(recon[i].cpu().view(28, 28), cmap=\"gray\")\n",
        "        ax.axis(\"off\")\n",
        "    plt.show()"
      ],
      "metadata": {
        "colab": {
          "base_uri": "https://localhost:8080/",
          "height": 299
        },
        "id": "lsqltUuDAWjU",
        "outputId": "9a19954c-160e-4ca6-8a80-2d4101c252a0"
      },
      "execution_count": null,
      "outputs": [
        {
          "output_type": "display_data",
          "data": {
            "text/plain": [
              "<Figure size 1600x400 with 16 Axes>"
            ],
            "image/png": "[encoded data removed]"
          },
          "metadata": {}
        }
      ]
    }
  ]
}